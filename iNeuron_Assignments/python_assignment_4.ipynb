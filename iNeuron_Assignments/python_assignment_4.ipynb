{
 "cells": [
  {
   "cell_type": "markdown",
   "metadata": {},
   "source": [
    "### iNeuron Assignment- MLD 28th March batch\n",
    "### Python Assignment 4\n",
    "#### Date : 19/04/2020\n",
    "#### Submitted by : Abishek SA"
   ]
  },
  {
   "cell_type": "markdown",
   "metadata": {},
   "source": [
    "##### 1.1 Write a Python Program(with class concepts) to find the area of the triangle using the below formula. \n",
    "##### $area = (s*(s-a)*(s-b)*(s-c))**0.5 $ \n",
    "##### Function to take the length of the sides of triangle from user should be defined in the parent class and function to calculate the area should be defined in subclass."
   ]
  },
  {
   "cell_type": "code",
   "execution_count": 6,
   "metadata": {},
   "outputs": [],
   "source": [
    "class mainclass:\n",
    "    def __init__(self):\n",
    "        self.sides = [0 for i in range(3)]\n",
    "    def inputSides(self):\n",
    "        self.sides = [float(input(\"Enter side no.\"+str(i+1)+\": \")) for i in range(3)]\n",
    "        \n",
    "class Triangle(mainclass):\n",
    "    def __init__(self):\n",
    "        mainclass.__init__(self)\n",
    "    def findArea(self):\n",
    "        a, b, c = self.sides\n",
    "        s = (a + b + c) / 2\n",
    "        area = (s*(s-a)*(s-b)*(s-c)) ** 0.5\n",
    "        print('The area of the triangle is %0.2f' %area)"
   ]
  },
  {
   "cell_type": "code",
   "execution_count": 7,
   "metadata": {},
   "outputs": [
    {
     "name": "stdout",
     "output_type": "stream",
     "text": [
      "Enter side no.1: 3.4\n",
      "Enter side no.2: 5.6\n",
      "Enter side no.3: 7\n",
      "The area of the triangle is 9.40\n"
     ]
    }
   ],
   "source": [
    "a = Triangle()\n",
    "a.inputSides()\n",
    "a.findArea()"
   ]
  },
  {
   "cell_type": "markdown",
   "metadata": {},
   "source": [
    "##### 1.2 Write a function filter_long_words() that takes a list of words and an integer n and returns the list of words that are longer than n."
   ]
  },
  {
   "cell_type": "code",
   "execution_count": 17,
   "metadata": {},
   "outputs": [
    {
     "data": {
      "text/plain": [
       "['Machine Learning', 'Deep Learning', 'Computer Vision']"
      ]
     },
     "execution_count": 17,
     "metadata": {},
     "output_type": "execute_result"
    }
   ],
   "source": [
    "def filter_long_words(my_list,n):\n",
    "    return [i for i in my_list if len(i) > n]\n",
    "\n",
    "filter_long_words([\"Machine Learning\", \"Deep Learning\", \"Computer Vision\", \"Abishek\", \"SA\",\"iNeuron\",\"Python\"],7)"
   ]
  },
  {
   "cell_type": "markdown",
   "metadata": {},
   "source": [
    "##### 2.1 Write a Python program using function concept that maps list of words into a list of integers representing the lengths of the corresponding words. Hint: If a list [ ab,cde,erty] is passed on to the python function output should come as [2,3,4] Here 2,3 and 4 are the lengths of the words in the list."
   ]
  },
  {
   "cell_type": "code",
   "execution_count": 21,
   "metadata": {},
   "outputs": [
    {
     "name": "stdout",
     "output_type": "stream",
     "text": [
      "[16, 13, 15, 7, 2, 7, 6]\n"
     ]
    }
   ],
   "source": [
    "def convert_to_len(my_list):\n",
    "    res=[]\n",
    "    for i in my_list:\n",
    "        res.append(len(i))\n",
    "    print(res)\n",
    "convert_to_len([\"Machine Learning\", \"Deep Learning\", \"Computer Vision\", \"Abishek\", \"SA\",\"iNeuron\",\"Python\"])"
   ]
  },
  {
   "cell_type": "markdown",
   "metadata": {},
   "source": [
    "##### 2.2 Write a Python function which takes a character (i.e. a string of length 1) and returns True if it is a vowel, False otherwise"
   ]
  },
  {
   "cell_type": "code",
   "execution_count": 34,
   "metadata": {},
   "outputs": [
    {
     "name": "stdout",
     "output_type": "stream",
     "text": [
      "False\n",
      "True\n"
     ]
    }
   ],
   "source": [
    "def is_vowel(char):\n",
    "    vowels=[\"a\",\"e\",\"i\",\"o\",\"u\"]\n",
    "    if char in vowels:\n",
    "        print(True)\n",
    "    else:\n",
    "        print(False)\n",
    "is_vowel(\"z\")\n",
    "is_vowel(\"i\")"
   ]
  }
 ],
 "metadata": {
  "kernelspec": {
   "display_name": "Python 3",
   "language": "python",
   "name": "python3"
  },
  "language_info": {
   "codemirror_mode": {
    "name": "ipython",
    "version": 3
   },
   "file_extension": ".py",
   "mimetype": "text/x-python",
   "name": "python",
   "nbconvert_exporter": "python",
   "pygments_lexer": "ipython3",
   "version": "3.7.3"
  }
 },
 "nbformat": 4,
 "nbformat_minor": 2
}
